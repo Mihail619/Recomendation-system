{
 "cells": [
  {
   "cell_type": "code",
   "execution_count": 1,
   "id": "528294d5",
   "metadata": {
    "execution": {
     "iopub.execute_input": "2023-09-03T07:03:29.025714Z",
     "iopub.status.busy": "2023-09-03T07:03:29.024863Z",
     "iopub.status.idle": "2023-09-03T07:03:44.765379Z",
     "shell.execute_reply": "2023-09-03T07:03:44.764391Z",
     "shell.execute_reply.started": "2023-09-03T07:03:29.025672Z"
    },
    "tags": []
   },
   "outputs": [
    {
     "name": "stderr",
     "output_type": "stream",
     "text": [
      "/opt/conda/lib/python3.10/site-packages/scipy/__init__.py:146: UserWarning: A NumPy version >=1.16.5 and <1.23.0 is required for this version of SciPy (detected version 1.23.5\n",
      "  warnings.warn(f\"A NumPy version >={np_minversion} and <{np_maxversion}\"\n"
     ]
    }
   ],
   "source": [
    "import pandas as pd\n",
    "import numpy as np\n",
    "import matplotlib.pyplot as plt\n",
    "import seaborn as sns\n",
    "import math\n",
    "import datetime\n",
    "import re\n",
    "import string\n",
    "from tqdm import tqdm\n",
    "\n",
    "import torch\n",
    "import transformers\n",
    "from transformers import BertModel, BertTokenizer, AutoTokenizer, RobertaModel\n",
    "from torch.utils.data import Dataset, TensorDataset\n",
    "\n",
    "pd.options.display.max_columns = 500"
   ]
  },
  {
   "cell_type": "code",
   "execution_count": 2,
   "id": "fc9f8e87",
   "metadata": {
    "execution": {
     "iopub.execute_input": "2023-09-03T07:03:44.767597Z",
     "iopub.status.busy": "2023-09-03T07:03:44.767270Z",
     "iopub.status.idle": "2023-09-03T07:03:45.034799Z",
     "shell.execute_reply": "2023-09-03T07:03:45.033811Z",
     "shell.execute_reply.started": "2023-09-03T07:03:44.767571Z"
    }
   },
   "outputs": [
    {
     "data": {
      "text/html": [
       "<div>\n",
       "<style scoped>\n",
       "    .dataframe tbody tr th:only-of-type {\n",
       "        vertical-align: middle;\n",
       "    }\n",
       "\n",
       "    .dataframe tbody tr th {\n",
       "        vertical-align: top;\n",
       "    }\n",
       "\n",
       "    .dataframe thead th {\n",
       "        text-align: right;\n",
       "    }\n",
       "</style>\n",
       "<table border=\"1\" class=\"dataframe\">\n",
       "  <thead>\n",
       "    <tr style=\"text-align: right;\">\n",
       "      <th></th>\n",
       "      <th>post_id</th>\n",
       "      <th>text</th>\n",
       "      <th>topic</th>\n",
       "    </tr>\n",
       "  </thead>\n",
       "  <tbody>\n",
       "    <tr>\n",
       "      <th>0</th>\n",
       "      <td>1</td>\n",
       "      <td>UK economy facing major risks\\n\\nThe UK manufa...</td>\n",
       "      <td>business</td>\n",
       "    </tr>\n",
       "    <tr>\n",
       "      <th>1</th>\n",
       "      <td>2</td>\n",
       "      <td>Aids and climate top Davos agenda\\n\\nClimate c...</td>\n",
       "      <td>business</td>\n",
       "    </tr>\n",
       "    <tr>\n",
       "      <th>2</th>\n",
       "      <td>3</td>\n",
       "      <td>Asian quake hits European shares\\n\\nShares in ...</td>\n",
       "      <td>business</td>\n",
       "    </tr>\n",
       "    <tr>\n",
       "      <th>3</th>\n",
       "      <td>4</td>\n",
       "      <td>India power shares jump on debut\\n\\nShares in ...</td>\n",
       "      <td>business</td>\n",
       "    </tr>\n",
       "    <tr>\n",
       "      <th>4</th>\n",
       "      <td>5</td>\n",
       "      <td>Lacroix label bought by US firm\\n\\nLuxury good...</td>\n",
       "      <td>business</td>\n",
       "    </tr>\n",
       "  </tbody>\n",
       "</table>\n",
       "</div>"
      ],
      "text/plain": [
       "   post_id                                               text     topic\n",
       "0        1  UK economy facing major risks\\n\\nThe UK manufa...  business\n",
       "1        2  Aids and climate top Davos agenda\\n\\nClimate c...  business\n",
       "2        3  Asian quake hits European shares\\n\\nShares in ...  business\n",
       "3        4  India power shares jump on debut\\n\\nShares in ...  business\n",
       "4        5  Lacroix label bought by US firm\\n\\nLuxury good...  business"
      ]
     },
     "execution_count": 2,
     "metadata": {},
     "output_type": "execute_result"
    }
   ],
   "source": [
    "post_text_df = pd.read_csv(\"/kaggle/input/embeding-user-data/post_text_df.csv\")\n",
    "post_text_df.head()"
   ]
  },
  {
   "cell_type": "code",
   "execution_count": 3,
   "id": "c6573585",
   "metadata": {
    "execution": {
     "iopub.execute_input": "2023-09-03T07:03:45.036696Z",
     "iopub.status.busy": "2023-09-03T07:03:45.036355Z",
     "iopub.status.idle": "2023-09-03T07:03:45.046170Z",
     "shell.execute_reply": "2023-09-03T07:03:45.045193Z",
     "shell.execute_reply.started": "2023-09-03T07:03:45.036665Z"
    },
    "tags": []
   },
   "outputs": [
    {
     "data": {
      "text/html": [
       "<div>\n",
       "<style scoped>\n",
       "    .dataframe tbody tr th:only-of-type {\n",
       "        vertical-align: middle;\n",
       "    }\n",
       "\n",
       "    .dataframe tbody tr th {\n",
       "        vertical-align: top;\n",
       "    }\n",
       "\n",
       "    .dataframe thead th {\n",
       "        text-align: right;\n",
       "    }\n",
       "</style>\n",
       "<table border=\"1\" class=\"dataframe\">\n",
       "  <thead>\n",
       "    <tr style=\"text-align: right;\">\n",
       "      <th></th>\n",
       "      <th>post_id</th>\n",
       "      <th>text</th>\n",
       "      <th>topic</th>\n",
       "    </tr>\n",
       "  </thead>\n",
       "  <tbody>\n",
       "    <tr>\n",
       "      <th>0</th>\n",
       "      <td>1</td>\n",
       "      <td>UK economy facing major risks\\n\\nThe UK manufa...</td>\n",
       "      <td>business</td>\n",
       "    </tr>\n",
       "    <tr>\n",
       "      <th>1</th>\n",
       "      <td>2</td>\n",
       "      <td>Aids and climate top Davos agenda\\n\\nClimate c...</td>\n",
       "      <td>business</td>\n",
       "    </tr>\n",
       "    <tr>\n",
       "      <th>2</th>\n",
       "      <td>3</td>\n",
       "      <td>Asian quake hits European shares\\n\\nShares in ...</td>\n",
       "      <td>business</td>\n",
       "    </tr>\n",
       "    <tr>\n",
       "      <th>3</th>\n",
       "      <td>4</td>\n",
       "      <td>India power shares jump on debut\\n\\nShares in ...</td>\n",
       "      <td>business</td>\n",
       "    </tr>\n",
       "    <tr>\n",
       "      <th>4</th>\n",
       "      <td>5</td>\n",
       "      <td>Lacroix label bought by US firm\\n\\nLuxury good...</td>\n",
       "      <td>business</td>\n",
       "    </tr>\n",
       "  </tbody>\n",
       "</table>\n",
       "</div>"
      ],
      "text/plain": [
       "   post_id                                               text     topic\n",
       "0        1  UK economy facing major risks\\n\\nThe UK manufa...  business\n",
       "1        2  Aids and climate top Davos agenda\\n\\nClimate c...  business\n",
       "2        3  Asian quake hits European shares\\n\\nShares in ...  business\n",
       "3        4  India power shares jump on debut\\n\\nShares in ...  business\n",
       "4        5  Lacroix label bought by US firm\\n\\nLuxury good...  business"
      ]
     },
     "execution_count": 3,
     "metadata": {},
     "output_type": "execute_result"
    }
   ],
   "source": [
    "# Обработаем таблицу post_text_df\n",
    "post_text_df.head()"
   ]
  },
  {
   "cell_type": "code",
   "execution_count": 4,
   "id": "a0e5e9cc",
   "metadata": {
    "execution": {
     "iopub.execute_input": "2023-09-03T07:03:45.049958Z",
     "iopub.status.busy": "2023-09-03T07:03:45.049264Z",
     "iopub.status.idle": "2023-09-03T07:03:45.056311Z",
     "shell.execute_reply": "2023-09-03T07:03:45.055325Z",
     "shell.execute_reply.started": "2023-09-03T07:03:45.049924Z"
    }
   },
   "outputs": [
    {
     "data": {
      "text/plain": [
       "'UK economy facing major risks\\n\\nThe UK manufacturing sector will continue to face serious challenges over the next two years, the British Chamber of Commerce (BCC) has said.\\n\\nThe groups quarterly survey of companies found exports had picked up in the last three months of 2004 to their best levels in eight years. The rise came despite exchange rates being cited as a major concern. However, the BCC found the whole UK economy still faced major risks and warned that growth is set to slow. It recently forecast economic growth will slow from more than 3% in 2004 to a little below 2.5% in both 2005 and 2006.\\n\\nManufacturers domestic sales growth fell back slightly in the quarter, the survey of 5,196 firms found. Employment in manufacturing also fell and job expectations were at their lowest level for a year.\\n\\nDespite some positive news for the export sector, there are worrying signs for manufacturing, the BCC said. These results reinforce our concern over the sectors persistent inability to sustain recovery. The outlook for the service sector was uncertain despite an increase in exports and orders over the quarter, the BCC noted.\\n\\nThe BCC found confidence increased in the quarter across both the manufacturing and service sectors although overall it failed to reach the levels at the start of 2004. The reduced threat of interest rate increases had contributed to improved confidence, it said. The Bank of England raised interest rates five times between November 2003 and August last year. But rates have been kept on hold since then amid signs of falling consumer confidence and a slowdown in output. The pressure on costs and margins, the relentless increase in regulations, and the threat of higher taxes remain serious problems, BCC director general David Frost said. While consumer spending is set to decelerate significantly over the next 12-18 months, it is unlikely that investment and exports will rise sufficiently strongly to pick up the slack.\\n'"
      ]
     },
     "execution_count": 4,
     "metadata": {},
     "output_type": "execute_result"
    }
   ],
   "source": [
    "post_text_df['text'][0]"
   ]
  },
  {
   "cell_type": "code",
   "execution_count": 5,
   "id": "eeca372a",
   "metadata": {
    "execution": {
     "iopub.execute_input": "2023-09-03T07:03:45.058569Z",
     "iopub.status.busy": "2023-09-03T07:03:45.057854Z",
     "iopub.status.idle": "2023-09-03T07:03:45.065976Z",
     "shell.execute_reply": "2023-09-03T07:03:45.064911Z",
     "shell.execute_reply.started": "2023-09-03T07:03:45.058537Z"
    }
   },
   "outputs": [],
   "source": [
    "def preprocessing(line):\n",
    "    line = line.lower()\n",
    "    line = line.replace('\\n\\n', ' ').replace('\\n', ' ')\n",
    "    line = re.sub(r'(?<=[\\w\\d])\\b[^\\w\\s]+(?=\\s)', ' ', line)\n",
    "    return line"
   ]
  },
  {
   "cell_type": "code",
   "execution_count": 6,
   "id": "f46ccdc9",
   "metadata": {
    "execution": {
     "iopub.execute_input": "2023-09-03T07:03:45.068961Z",
     "iopub.status.busy": "2023-09-03T07:03:45.068513Z",
     "iopub.status.idle": "2023-09-03T07:03:46.169462Z",
     "shell.execute_reply": "2023-09-03T07:03:46.168447Z",
     "shell.execute_reply.started": "2023-09-03T07:03:45.068928Z"
    }
   },
   "outputs": [],
   "source": [
    "post_text_df['text'] = post_text_df['text'].apply(preprocessing)"
   ]
  },
  {
   "cell_type": "code",
   "execution_count": 7,
   "id": "a0836bb7",
   "metadata": {
    "execution": {
     "iopub.execute_input": "2023-09-03T07:03:46.171349Z",
     "iopub.status.busy": "2023-09-03T07:03:46.170978Z",
     "iopub.status.idle": "2023-09-03T07:03:46.184054Z",
     "shell.execute_reply": "2023-09-03T07:03:46.182964Z",
     "shell.execute_reply.started": "2023-09-03T07:03:46.171316Z"
    }
   },
   "outputs": [
    {
     "data": {
      "text/html": [
       "<div>\n",
       "<style scoped>\n",
       "    .dataframe tbody tr th:only-of-type {\n",
       "        vertical-align: middle;\n",
       "    }\n",
       "\n",
       "    .dataframe tbody tr th {\n",
       "        vertical-align: top;\n",
       "    }\n",
       "\n",
       "    .dataframe thead th {\n",
       "        text-align: right;\n",
       "    }\n",
       "</style>\n",
       "<table border=\"1\" class=\"dataframe\">\n",
       "  <thead>\n",
       "    <tr style=\"text-align: right;\">\n",
       "      <th></th>\n",
       "      <th>post_id</th>\n",
       "      <th>text</th>\n",
       "      <th>topic</th>\n",
       "    </tr>\n",
       "  </thead>\n",
       "  <tbody>\n",
       "    <tr>\n",
       "      <th>0</th>\n",
       "      <td>1</td>\n",
       "      <td>uk economy facing major risks the uk manufactu...</td>\n",
       "      <td>business</td>\n",
       "    </tr>\n",
       "    <tr>\n",
       "      <th>1</th>\n",
       "      <td>2</td>\n",
       "      <td>aids and climate top davos agenda climate chan...</td>\n",
       "      <td>business</td>\n",
       "    </tr>\n",
       "    <tr>\n",
       "      <th>2</th>\n",
       "      <td>3</td>\n",
       "      <td>asian quake hits european shares shares in eur...</td>\n",
       "      <td>business</td>\n",
       "    </tr>\n",
       "    <tr>\n",
       "      <th>3</th>\n",
       "      <td>4</td>\n",
       "      <td>india power shares jump on debut shares in ind...</td>\n",
       "      <td>business</td>\n",
       "    </tr>\n",
       "    <tr>\n",
       "      <th>4</th>\n",
       "      <td>5</td>\n",
       "      <td>lacroix label bought by us firm luxury goods g...</td>\n",
       "      <td>business</td>\n",
       "    </tr>\n",
       "    <tr>\n",
       "      <th>...</th>\n",
       "      <td>...</td>\n",
       "      <td>...</td>\n",
       "      <td>...</td>\n",
       "    </tr>\n",
       "    <tr>\n",
       "      <th>7018</th>\n",
       "      <td>7315</td>\n",
       "      <td>ok  i would not normally watch a farrelly brot...</td>\n",
       "      <td>movie</td>\n",
       "    </tr>\n",
       "    <tr>\n",
       "      <th>7019</th>\n",
       "      <td>7316</td>\n",
       "      <td>i give this movie 2 stars purely because of it...</td>\n",
       "      <td>movie</td>\n",
       "    </tr>\n",
       "    <tr>\n",
       "      <th>7020</th>\n",
       "      <td>7317</td>\n",
       "      <td>i cant believe this film was allowed to be mad...</td>\n",
       "      <td>movie</td>\n",
       "    </tr>\n",
       "    <tr>\n",
       "      <th>7021</th>\n",
       "      <td>7318</td>\n",
       "      <td>the version i saw of this film was the blockbu...</td>\n",
       "      <td>movie</td>\n",
       "    </tr>\n",
       "    <tr>\n",
       "      <th>7022</th>\n",
       "      <td>7319</td>\n",
       "      <td>piece of subtle art  maybe a masterpiece  doub...</td>\n",
       "      <td>movie</td>\n",
       "    </tr>\n",
       "  </tbody>\n",
       "</table>\n",
       "<p>7023 rows × 3 columns</p>\n",
       "</div>"
      ],
      "text/plain": [
       "      post_id                                               text     topic\n",
       "0           1  uk economy facing major risks the uk manufactu...  business\n",
       "1           2  aids and climate top davos agenda climate chan...  business\n",
       "2           3  asian quake hits european shares shares in eur...  business\n",
       "3           4  india power shares jump on debut shares in ind...  business\n",
       "4           5  lacroix label bought by us firm luxury goods g...  business\n",
       "...       ...                                                ...       ...\n",
       "7018     7315  ok  i would not normally watch a farrelly brot...     movie\n",
       "7019     7316  i give this movie 2 stars purely because of it...     movie\n",
       "7020     7317  i cant believe this film was allowed to be mad...     movie\n",
       "7021     7318  the version i saw of this film was the blockbu...     movie\n",
       "7022     7319  piece of subtle art  maybe a masterpiece  doub...     movie\n",
       "\n",
       "[7023 rows x 3 columns]"
      ]
     },
     "execution_count": 7,
     "metadata": {},
     "output_type": "execute_result"
    }
   ],
   "source": [
    "post_text_df"
   ]
  },
  {
   "cell_type": "code",
   "execution_count": 8,
   "id": "562533e9",
   "metadata": {
    "execution": {
     "iopub.execute_input": "2023-09-03T07:03:46.186485Z",
     "iopub.status.busy": "2023-09-03T07:03:46.185794Z",
     "iopub.status.idle": "2023-09-03T07:03:46.220429Z",
     "shell.execute_reply": "2023-09-03T07:03:46.219360Z",
     "shell.execute_reply.started": "2023-09-03T07:03:46.186452Z"
    }
   },
   "outputs": [
    {
     "name": "stdout",
     "output_type": "stream",
     "text": [
      "cuda:0\n"
     ]
    }
   ],
   "source": [
    "device = torch.device('cuda:0' if torch.cuda.is_available() else 'cpu')\n",
    "print(device)\n",
    "# print(torch.cuda.get_device_name())"
   ]
  },
  {
   "cell_type": "code",
   "execution_count": 9,
   "id": "2abc69bf",
   "metadata": {
    "execution": {
     "iopub.execute_input": "2023-09-03T07:03:46.223126Z",
     "iopub.status.busy": "2023-09-03T07:03:46.222214Z",
     "iopub.status.idle": "2023-09-03T07:03:51.605922Z",
     "shell.execute_reply": "2023-09-03T07:03:51.604935Z",
     "shell.execute_reply.started": "2023-09-03T07:03:46.223092Z"
    }
   },
   "outputs": [
    {
     "data": {
      "application/vnd.jupyter.widget-view+json": {
       "model_id": "fe957cde86fa4bb69494092359ef46ce",
       "version_major": 2,
       "version_minor": 0
      },
      "text/plain": [
       "Downloading (…)lve/main/config.json:   0%|          | 0.00/481 [00:00<?, ?B/s]"
      ]
     },
     "metadata": {},
     "output_type": "display_data"
    },
    {
     "data": {
      "application/vnd.jupyter.widget-view+json": {
       "model_id": "251a30c9f78a4e3bb71e073518fe2691",
       "version_major": 2,
       "version_minor": 0
      },
      "text/plain": [
       "Downloading (…)olve/main/vocab.json:   0%|          | 0.00/899k [00:00<?, ?B/s]"
      ]
     },
     "metadata": {},
     "output_type": "display_data"
    },
    {
     "data": {
      "application/vnd.jupyter.widget-view+json": {
       "model_id": "ffb2a503186f44c4b4b8f87888bb8035",
       "version_major": 2,
       "version_minor": 0
      },
      "text/plain": [
       "Downloading (…)olve/main/merges.txt:   0%|          | 0.00/456k [00:00<?, ?B/s]"
      ]
     },
     "metadata": {},
     "output_type": "display_data"
    },
    {
     "data": {
      "application/vnd.jupyter.widget-view+json": {
       "model_id": "b42ab03db0cb4c3fa11ac1c1199ae13d",
       "version_major": 2,
       "version_minor": 0
      },
      "text/plain": [
       "Downloading (…)/main/tokenizer.json:   0%|          | 0.00/1.36M [00:00<?, ?B/s]"
      ]
     },
     "metadata": {},
     "output_type": "display_data"
    },
    {
     "data": {
      "application/vnd.jupyter.widget-view+json": {
       "model_id": "2a8988c1b103423cb263e3fcf701d6c9",
       "version_major": 2,
       "version_minor": 0
      },
      "text/plain": [
       "Downloading model.safetensors:   0%|          | 0.00/499M [00:00<?, ?B/s]"
      ]
     },
     "metadata": {},
     "output_type": "display_data"
    },
    {
     "name": "stderr",
     "output_type": "stream",
     "text": [
      "Some weights of RobertaModel were not initialized from the model checkpoint at roberta-base and are newly initialized: ['roberta.pooler.dense.bias', 'roberta.pooler.dense.weight']\n",
      "You should probably TRAIN this model on a down-stream task to be able to use it for predictions and inference.\n"
     ]
    }
   ],
   "source": [
    "tokenizer = AutoTokenizer.from_pretrained('roberta-base')\n",
    "model = RobertaModel.from_pretrained('roberta-base')"
   ]
  },
  {
   "cell_type": "code",
   "execution_count": 10,
   "id": "aa13828b",
   "metadata": {
    "execution": {
     "iopub.execute_input": "2023-09-03T07:03:51.610786Z",
     "iopub.status.busy": "2023-09-03T07:03:51.610487Z",
     "iopub.status.idle": "2023-09-03T07:03:51.617470Z",
     "shell.execute_reply": "2023-09-03T07:03:51.616508Z",
     "shell.execute_reply.started": "2023-09-03T07:03:51.610753Z"
    }
   },
   "outputs": [],
   "source": [
    "text_col = post_text_df['text']"
   ]
  },
  {
   "cell_type": "code",
   "execution_count": 11,
   "id": "6e934589",
   "metadata": {
    "execution": {
     "iopub.execute_input": "2023-09-03T07:03:51.619521Z",
     "iopub.status.busy": "2023-09-03T07:03:51.618990Z",
     "iopub.status.idle": "2023-09-03T07:03:57.112835Z",
     "shell.execute_reply": "2023-09-03T07:03:57.111721Z",
     "shell.execute_reply.started": "2023-09-03T07:03:51.619488Z"
    }
   },
   "outputs": [],
   "source": [
    "from torch.utils.data import DataLoader\n",
    "\n",
    "tokenized_dataset = tokenizer.batch_encode_plus(text_col.to_list(),\n",
    "                                            add_special_tokens=True,\n",
    "                                            padding=True,\n",
    "                                            truncation=True, \n",
    "                                            return_token_type_ids=False)"
   ]
  },
  {
   "cell_type": "code",
   "execution_count": 12,
   "id": "c434a845",
   "metadata": {
    "execution": {
     "iopub.execute_input": "2023-09-03T07:03:57.114433Z",
     "iopub.status.busy": "2023-09-03T07:03:57.114093Z",
     "iopub.status.idle": "2023-09-03T07:03:59.871132Z",
     "shell.execute_reply": "2023-09-03T07:03:59.869975Z",
     "shell.execute_reply.started": "2023-09-03T07:03:57.114402Z"
    }
   },
   "outputs": [],
   "source": [
    "dataset = TensorDataset(torch.tensor(tokenized_dataset['input_ids']),\n",
    "                          torch.tensor(tokenized_dataset['attention_mask']))"
   ]
  },
  {
   "cell_type": "markdown",
   "id": "6dc77995",
   "metadata": {},
   "source": [
    "from transformers import DataCollatorWithPadding\n",
    "    \n",
    "\n",
    "data_collator = DataCollatorWithPadding(tokenizer=tokenizer)"
   ]
  },
  {
   "cell_type": "code",
   "execution_count": 13,
   "id": "6c85bf13",
   "metadata": {
    "execution": {
     "iopub.execute_input": "2023-09-03T07:03:59.873148Z",
     "iopub.status.busy": "2023-09-03T07:03:59.872762Z",
     "iopub.status.idle": "2023-09-03T07:04:01.628722Z",
     "shell.execute_reply": "2023-09-03T07:04:01.627575Z",
     "shell.execute_reply.started": "2023-09-03T07:03:59.873112Z"
    }
   },
   "outputs": [],
   "source": [
    "loader = DataLoader(dataset,\n",
    "                    batch_size=5,\n",
    "                    pin_memory=True,\n",
    "                    shuffle=False)"
   ]
  },
  {
   "cell_type": "code",
   "execution_count": 14,
   "id": "bfa20acc",
   "metadata": {
    "execution": {
     "iopub.execute_input": "2023-09-03T07:04:01.630746Z",
     "iopub.status.busy": "2023-09-03T07:04:01.630325Z",
     "iopub.status.idle": "2023-09-03T07:04:06.880622Z",
     "shell.execute_reply": "2023-09-03T07:04:06.879585Z",
     "shell.execute_reply.started": "2023-09-03T07:04:01.630711Z"
    }
   },
   "outputs": [],
   "source": [
    "model = model.to(device)\n",
    "@torch.inference_mode()\n",
    "def get_embedings(model, loader):\n",
    "    model.eval()\n",
    "    \n",
    "    total_embeddings = []\n",
    "    labels = []\n",
    "    \n",
    "    for batch in tqdm(loader):\n",
    "        torch.cuda.empty_cache()\n",
    "        batch = {'input_ids': batch[0].to(device),\n",
    "                 'attention_mask':  batch[1].to(device)}\n",
    "        input_ids, attention_mask = batch\n",
    "        \n",
    "        embeddings = model(**batch)['last_hidden_state'][:, 0,:]\n",
    "        total_embeddings.append(embeddings.cpu())\n",
    "    \n",
    "    return torch.cat(total_embeddings, dim=0)"
   ]
  },
  {
   "cell_type": "code",
   "execution_count": 15,
   "id": "41b67283",
   "metadata": {
    "execution": {
     "iopub.execute_input": "2023-09-03T07:04:06.887721Z",
     "iopub.status.busy": "2023-09-03T07:04:06.885392Z",
     "iopub.status.idle": "2023-09-03T07:06:25.863399Z",
     "shell.execute_reply": "2023-09-03T07:06:25.862269Z",
     "shell.execute_reply.started": "2023-09-03T07:04:06.887686Z"
    }
   },
   "outputs": [
    {
     "name": "stderr",
     "output_type": "stream",
     "text": [
      "100%|██████████| 1405/1405 [02:18<00:00, 10.11it/s]\n"
     ]
    }
   ],
   "source": [
    "embeddings = get_embedings(model, loader)"
   ]
  },
  {
   "cell_type": "code",
   "execution_count": 16,
   "id": "a15fef2e",
   "metadata": {
    "execution": {
     "iopub.execute_input": "2023-09-03T07:06:25.865283Z",
     "iopub.status.busy": "2023-09-03T07:06:25.864833Z",
     "iopub.status.idle": "2023-09-03T07:06:25.893811Z",
     "shell.execute_reply": "2023-09-03T07:06:25.892786Z",
     "shell.execute_reply.started": "2023-09-03T07:06:25.865249Z"
    }
   },
   "outputs": [
    {
     "data": {
      "text/plain": [
       "tensor([[-0.0288,  0.0188, -0.0012,  ..., -0.1546, -0.0679,  0.0406],\n",
       "        [ 0.0011,  0.0438, -0.0143,  ..., -0.1370, -0.0337,  0.1035],\n",
       "        [-0.0488,  0.0572,  0.0110,  ..., -0.1625, -0.0973,  0.0563],\n",
       "        ...,\n",
       "        [-0.0268,  0.0204, -0.0383,  ..., -0.1150, -0.0587,  0.0260],\n",
       "        [-0.0756,  0.0163, -0.0128,  ..., -0.1794, -0.0071,  0.0160],\n",
       "        [-0.0882,  0.0328,  0.0055,  ..., -0.1117, -0.0077,  0.0836]])"
      ]
     },
     "execution_count": 16,
     "metadata": {},
     "output_type": "execute_result"
    }
   ],
   "source": [
    "embeddings"
   ]
  },
  {
   "cell_type": "code",
   "execution_count": 17,
   "id": "e8035ed6",
   "metadata": {
    "execution": {
     "iopub.execute_input": "2023-09-03T07:06:25.895632Z",
     "iopub.status.busy": "2023-09-03T07:06:25.895193Z",
     "iopub.status.idle": "2023-09-03T07:06:26.515613Z",
     "shell.execute_reply": "2023-09-03T07:06:26.514614Z",
     "shell.execute_reply.started": "2023-09-03T07:06:25.895598Z"
    }
   },
   "outputs": [],
   "source": [
    "embeddings_list = embeddings.tolist()\n",
    "embeddings_list\n",
    "\n",
    "post_text_df = post_text_df.assign(embeddings=embeddings.tolist())"
   ]
  },
  {
   "cell_type": "code",
   "execution_count": 20,
   "id": "182b498d",
   "metadata": {
    "execution": {
     "iopub.execute_input": "2023-09-03T07:06:36.146633Z",
     "iopub.status.busy": "2023-09-03T07:06:36.146329Z",
     "iopub.status.idle": "2023-09-03T07:06:45.784036Z",
     "shell.execute_reply": "2023-09-03T07:06:45.782963Z",
     "shell.execute_reply.started": "2023-09-03T07:06:36.146599Z"
    }
   },
   "outputs": [],
   "source": [
    "post_text_df.to_csv('post_text_with_embeddings.csv', index=False)"
   ]
  },
  {
   "cell_type": "code",
   "execution_count": 21,
   "id": "3777a1c5",
   "metadata": {
    "execution": {
     "iopub.execute_input": "2023-09-03T07:06:45.786429Z",
     "iopub.status.busy": "2023-09-03T07:06:45.785780Z",
     "iopub.status.idle": "2023-09-03T07:06:45.806438Z",
     "shell.execute_reply": "2023-09-03T07:06:45.795101Z",
     "shell.execute_reply.started": "2023-09-03T07:06:45.786385Z"
    }
   },
   "outputs": [
    {
     "data": {
      "text/plain": [
       "(7023, 4)"
      ]
     },
     "execution_count": 21,
     "metadata": {},
     "output_type": "execute_result"
    }
   ],
   "source": [
    "post_text_df.shape"
   ]
  },
  {
   "cell_type": "code",
   "execution_count": 22,
   "id": "f736a3f1",
   "metadata": {
    "execution": {
     "iopub.execute_input": "2023-09-03T07:07:44.091499Z",
     "iopub.status.busy": "2023-09-03T07:07:44.091138Z",
     "iopub.status.idle": "2023-09-03T07:07:45.365669Z",
     "shell.execute_reply": "2023-09-03T07:07:45.364631Z",
     "shell.execute_reply.started": "2023-09-03T07:07:44.091470Z"
    }
   },
   "outputs": [],
   "source": [
    "post_text_with_embeddings = pd.read_csv(\"/kaggle/working/post_text_with_embeddings.csv\")"
   ]
  },
  {
   "cell_type": "code",
   "execution_count": 23,
   "id": "ca4e97dd",
   "metadata": {
    "execution": {
     "iopub.execute_input": "2023-09-03T07:07:48.954034Z",
     "iopub.status.busy": "2023-09-03T07:07:48.951522Z",
     "iopub.status.idle": "2023-09-03T07:07:48.982111Z",
     "shell.execute_reply": "2023-09-03T07:07:48.980019Z",
     "shell.execute_reply.started": "2023-09-03T07:07:48.953990Z"
    }
   },
   "outputs": [
    {
     "data": {
      "text/html": [
       "<div>\n",
       "<style scoped>\n",
       "    .dataframe tbody tr th:only-of-type {\n",
       "        vertical-align: middle;\n",
       "    }\n",
       "\n",
       "    .dataframe tbody tr th {\n",
       "        vertical-align: top;\n",
       "    }\n",
       "\n",
       "    .dataframe thead th {\n",
       "        text-align: right;\n",
       "    }\n",
       "</style>\n",
       "<table border=\"1\" class=\"dataframe\">\n",
       "  <thead>\n",
       "    <tr style=\"text-align: right;\">\n",
       "      <th></th>\n",
       "      <th>post_id</th>\n",
       "      <th>text</th>\n",
       "      <th>topic</th>\n",
       "      <th>embeddings</th>\n",
       "    </tr>\n",
       "  </thead>\n",
       "  <tbody>\n",
       "    <tr>\n",
       "      <th>0</th>\n",
       "      <td>1</td>\n",
       "      <td>uk economy facing major risks the uk manufactu...</td>\n",
       "      <td>business</td>\n",
       "      <td>[-0.02879844792187214, 0.018772652372717857, -...</td>\n",
       "    </tr>\n",
       "    <tr>\n",
       "      <th>1</th>\n",
       "      <td>2</td>\n",
       "      <td>aids and climate top davos agenda climate chan...</td>\n",
       "      <td>business</td>\n",
       "      <td>[0.0011228763032704592, 0.04378493130207062, -...</td>\n",
       "    </tr>\n",
       "    <tr>\n",
       "      <th>2</th>\n",
       "      <td>3</td>\n",
       "      <td>asian quake hits european shares shares in eur...</td>\n",
       "      <td>business</td>\n",
       "      <td>[-0.0488189235329628, 0.05721372738480568, 0.0...</td>\n",
       "    </tr>\n",
       "    <tr>\n",
       "      <th>3</th>\n",
       "      <td>4</td>\n",
       "      <td>india power shares jump on debut shares in ind...</td>\n",
       "      <td>business</td>\n",
       "      <td>[-0.024175573140382767, 0.021884476765990257, ...</td>\n",
       "    </tr>\n",
       "    <tr>\n",
       "      <th>4</th>\n",
       "      <td>5</td>\n",
       "      <td>lacroix label bought by us firm luxury goods g...</td>\n",
       "      <td>business</td>\n",
       "      <td>[-0.03241302818059921, 0.05497121810913086, -0...</td>\n",
       "    </tr>\n",
       "  </tbody>\n",
       "</table>\n",
       "</div>"
      ],
      "text/plain": [
       "  post_id                                               text     topic  \\\n",
       "0       1  uk economy facing major risks the uk manufactu...  business   \n",
       "1       2  aids and climate top davos agenda climate chan...  business   \n",
       "2       3  asian quake hits european shares shares in eur...  business   \n",
       "3       4  india power shares jump on debut shares in ind...  business   \n",
       "4       5  lacroix label bought by us firm luxury goods g...  business   \n",
       "\n",
       "                                          embeddings  \n",
       "0  [-0.02879844792187214, 0.018772652372717857, -...  \n",
       "1  [0.0011228763032704592, 0.04378493130207062, -...  \n",
       "2  [-0.0488189235329628, 0.05721372738480568, 0.0...  \n",
       "3  [-0.024175573140382767, 0.021884476765990257, ...  \n",
       "4  [-0.03241302818059921, 0.05497121810913086, -0...  "
      ]
     },
     "execution_count": 23,
     "metadata": {},
     "output_type": "execute_result"
    }
   ],
   "source": [
    "post_text_with_embeddings.head()"
   ]
  },
  {
   "cell_type": "code",
   "execution_count": null,
   "id": "488db9bd",
   "metadata": {},
   "outputs": [],
   "source": []
  }
 ],
 "metadata": {
  "kernelspec": {
   "display_name": "Python 3 (ipykernel)",
   "language": "python",
   "name": "python3"
  },
  "language_info": {
   "codemirror_mode": {
    "name": "ipython",
    "version": 3
   },
   "file_extension": ".py",
   "mimetype": "text/x-python",
   "name": "python",
   "nbconvert_exporter": "python",
   "pygments_lexer": "ipython3",
   "version": "3.8.10"
  }
 },
 "nbformat": 4,
 "nbformat_minor": 5
}
